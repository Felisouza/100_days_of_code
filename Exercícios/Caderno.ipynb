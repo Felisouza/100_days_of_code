{
 "metadata": {
  "language_info": {
   "codemirror_mode": {
    "name": "ipython",
    "version": 3
   },
   "file_extension": ".py",
   "mimetype": "text/x-python",
   "name": "python",
   "nbconvert_exporter": "python",
   "pygments_lexer": "ipython3",
   "version": "3.8.2-final"
  },
  "orig_nbformat": 2,
  "kernelspec": {
   "name": "python3",
   "display_name": "Python 3.8.2 32-bit",
   "metadata": {
    "interpreter": {
     "hash": "d718f5e77eeb90a857103ce460e841f8a02e170f65d24718fff93ff5f53fad94"
    }
   }
  }
 },
 "nbformat": 4,
 "nbformat_minor": 2,
 "cells": [
  {
   "source": [
    "## Write a function that accepts an array of 10 integers (between 0 and 9), that returns a string of those numbers in the form of a phone number.\n",
    "\n",
    "```\n",
    "create_phone_number([1, 2, 3, 4, 5, 6, 7, 8, 9, 0]) # => returns \"(123) 456-7890\"\n",
    "```"
   ],
   "cell_type": "markdown",
   "metadata": {}
  },
  {
   "cell_type": "code",
   "execution_count": 18,
   "metadata": {},
   "outputs": [],
   "source": [
    "def create_phone_number(n):\n",
    "    #your code here\n",
    "    if len(n) > 10:\n",
    "        return print('Número de telefone incorreto!')\n",
    "\n",
    "    n.insert(0,'(')\n",
    "    n.insert(4,')')\n",
    "    n.insert(5,' ')\n",
    "    n.insert(9,'-')\n",
    "    n = ''.join(map(str,n))\n",
    "    return print(n)"
   ]
  },
  {
   "cell_type": "code",
   "execution_count": 19,
   "metadata": {},
   "outputs": [
    {
     "output_type": "stream",
     "name": "stdout",
     "text": [
      "(000) 000-0000\n"
     ]
    }
   ],
   "source": [
    "create_phone_number([0,0,0,0,0,0,0,0,0,0])\n"
   ]
  },
  {
   "source": [
    "## Trolls are attacking your comment section!\n",
    "\n",
    "A common way to deal with this situation is to remove all of the vowels from the trolls' comments, neutralizing the threat.\n",
    "\n",
    "Your task is to write a function that takes a string and return a new string with all vowels removed.\n",
    "\n",
    "For example, the string \"This website is for losers LOL!\" would become \"Ths wbst s fr lsrs LL!\"."
   ],
   "cell_type": "markdown",
   "metadata": {}
  },
  {
   "cell_type": "code",
   "execution_count": 58,
   "metadata": {},
   "outputs": [],
   "source": [
    "def disemvowel(string):\n",
    "    #string = string.lower()\n",
    "    for i in string:\n",
    "        if i == 'a' or i == 'A' or i == 'e' or i == 'E' or i == 'i' or i == 'I' or i == 'o' or i == 'O' or i == 'u' or i == 'U':\n",
    "            string = string.replace(i, '')\n",
    "    return print(string)"
   ]
  },
  {
   "cell_type": "code",
   "execution_count": 59,
   "metadata": {},
   "outputs": [
    {
     "output_type": "stream",
     "name": "stdout",
     "text": [
      "Ths wbst s fr lsrs LL!\n"
     ]
    }
   ],
   "source": [
    "disemvowel('This website is for losers LOL!')"
   ]
  },
  {
   "source": [
    "## Create a function named divisors/Divisors that takes an integer n > 1 and returns an array with all of the integer's divisors(except for 1 and the number itself), from smallest to largest. If the number is prime return the string '(integer) is prime' (null in C#) (use Either String a in Haskell and Result<Vec<u32>, String> in Rust).\n",
    "Example:\n",
    "```\n",
    "divisors(12); #should return [2,3,4,6]\n",
    "divisors(25); #should return [5]\n",
    "divisors(13); #should return \"13 is prime\"\n",
    "\n",
    "```"
   ],
   "cell_type": "markdown",
   "metadata": {}
  },
  {
   "cell_type": "code",
   "execution_count": 62,
   "metadata": {},
   "outputs": [],
   "source": [
    "def divisors(integer):\n",
    "    cont = 1\n",
    "    lista = []\n",
    "    while cont < (integer-1):\n",
    "        cont += 1 \n",
    "        if integer % cont == 0:\n",
    "            lista.append(cont)\n",
    "    if len(lista) == 0:       \n",
    "        #elif integer % cont != 0:\n",
    "        return print(f'{integer} is prime')\n",
    "            \n",
    "    return print(lista)"
   ]
  },
  {
   "cell_type": "code",
   "execution_count": 63,
   "metadata": {
    "tags": []
   },
   "outputs": [
    {
     "output_type": "stream",
     "name": "stdout",
     "text": [
      "13 is prime\n"
     ]
    }
   ],
   "source": [
    "divisors(13)"
   ]
  },
  {
   "source": [
    "## A Narcissistic Number is a positive number which is the sum of its own digits, each raised to the power of the number of digits in a given base. In this Kata, we will restrict ourselves to decimal (base 10).\n",
    "\n",
    "```For example, take 153 (3 digits), which is narcisstic:```"
   ],
   "cell_type": "markdown",
   "metadata": {}
  },
  {
   "cell_type": "code",
   "execution_count": 4,
   "metadata": {},
   "outputs": [],
   "source": [
    "def narcissistic(value):\n",
    "    # Code away\n",
    "    #o valor é inteiro, não posso iterar com ele. Estava pensando neme como uma lista ou string.\n",
    "    for i in value:\n",
    "        exp = len(value)\n",
    "        n = i**exp\n",
    "        print(n)\n",
    "    if n == value:\n",
    "        return True\n",
    "    else:\n",
    "        return False"
   ]
  },
  {
   "cell_type": "code",
   "execution_count": 5,
   "metadata": {},
   "outputs": [
    {
     "output_type": "error",
     "ename": "TypeError",
     "evalue": "'int' object is not iterable",
     "traceback": [
      "\u001b[1;31m---------------------------------------------------------------------------\u001b[0m",
      "\u001b[1;31mTypeError\u001b[0m                                 Traceback (most recent call last)",
      "\u001b[1;32m<ipython-input-5-83f352bdb926>\u001b[0m in \u001b[0;36m<module>\u001b[1;34m\u001b[0m\n\u001b[1;32m----> 1\u001b[1;33m \u001b[0mnarcissistic\u001b[0m\u001b[1;33m(\u001b[0m\u001b[1;36m153\u001b[0m\u001b[1;33m)\u001b[0m\u001b[1;33m\u001b[0m\u001b[1;33m\u001b[0m\u001b[0m\n\u001b[0m",
      "\u001b[1;32m<ipython-input-4-5659dada0734>\u001b[0m in \u001b[0;36mnarcissistic\u001b[1;34m(value)\u001b[0m\n\u001b[0;32m      1\u001b[0m \u001b[1;32mdef\u001b[0m \u001b[0mnarcissistic\u001b[0m\u001b[1;33m(\u001b[0m \u001b[0mvalue\u001b[0m \u001b[1;33m)\u001b[0m\u001b[1;33m:\u001b[0m\u001b[1;33m\u001b[0m\u001b[1;33m\u001b[0m\u001b[0m\n\u001b[0;32m      2\u001b[0m     \u001b[1;31m# Code away\u001b[0m\u001b[1;33m\u001b[0m\u001b[1;33m\u001b[0m\u001b[1;33m\u001b[0m\u001b[0m\n\u001b[1;32m----> 3\u001b[1;33m     \u001b[1;32mfor\u001b[0m \u001b[0mi\u001b[0m \u001b[1;32min\u001b[0m \u001b[0mvalue\u001b[0m\u001b[1;33m:\u001b[0m\u001b[1;33m\u001b[0m\u001b[1;33m\u001b[0m\u001b[0m\n\u001b[0m\u001b[0;32m      4\u001b[0m         \u001b[0mexp\u001b[0m \u001b[1;33m=\u001b[0m \u001b[0mlen\u001b[0m\u001b[1;33m(\u001b[0m\u001b[0mvalue\u001b[0m\u001b[1;33m)\u001b[0m\u001b[1;33m\u001b[0m\u001b[1;33m\u001b[0m\u001b[0m\n\u001b[0;32m      5\u001b[0m         \u001b[0mn\u001b[0m \u001b[1;33m=\u001b[0m \u001b[0mi\u001b[0m\u001b[1;33m**\u001b[0m\u001b[0mexp\u001b[0m\u001b[1;33m\u001b[0m\u001b[1;33m\u001b[0m\u001b[0m\n",
      "\u001b[1;31mTypeError\u001b[0m: 'int' object is not iterable"
     ]
    }
   ],
   "source": [
    "narcissistic(153)"
   ]
  },
  {
   "cell_type": "code",
   "execution_count": 20,
   "metadata": {},
   "outputs": [
    {
     "output_type": "stream",
     "name": "stdout",
     "text": [
      "10 15 225 2\n100 0 0 3\n"
     ]
    }
   ],
   "source": [
    "value = 153\n",
    "div = 1\n",
    "exp = 1\n",
    "while value != 0:\n",
    "    div *= 10\n",
    "    value = value//div\n",
    "    exp += 1\n",
    "    n = value**exp\n",
    "    print(div, value,n, exp)\n",
    "    #if n == value:\n",
    "     #   return True\n",
    "    #else:\n",
    "     #   return False"
   ]
  },
  {
   "cell_type": "code",
   "execution_count": 37,
   "metadata": {},
   "outputs": [
    {
     "output_type": "stream",
     "name": "stdout",
     "text": [
      "3 3 1\n25 5 2\n1 1 3\n"
     ]
    }
   ],
   "source": [
    "##Vou tentar fazer isso com lista\n",
    "n = 153\n",
    "soma = 0\n",
    "exp = 0\n",
    "result = 0\n",
    "while (n != 0):\n",
    "    resto = n % 10\n",
    "    n = (n - resto)//10\n",
    "    exp += 1\n",
    "    result = resto**exp\n",
    "    print(result, resto, exp)\n"
   ]
  },
  {
   "source": [
    "## To celebrate the start of the Rio Olympics (and the return of 'the Last Leg' on C4 tonight) this is an Olympic inspired kata.\n",
    "\n",
    "Given a string of random letters, you need to examine each. Some letters naturally have 'rings' in them. 'O' is an obvious example, but 'b', 'p', 'e', 'A', etc are all just as applicable. 'B' even has two!! Please note for this kata you can count lower case 'g' as only one ring.\n",
    "\n",
    "Your job is to count the 'rings' in each letter and divide the total number by 2. Round the answer down. Once you have your final score:\n",
    "\n",
    "if score is 1 or less, return 'Not even a medal!'; if score is 2, return 'Bronze!'; if score is 3, return 'Silver!'; if score is more than 3, return 'Gold!';\n",
    "\n",
    "Dots over i's and any other letters don't count as rings"
   ],
   "cell_type": "markdown",
   "metadata": {}
  },
  {
   "cell_type": "code",
   "execution_count": 144,
   "metadata": {},
   "outputs": [],
   "source": [
    "def olympic_ring(string):\n",
    "    #your code here\n",
    "    pontuacao = 0\n",
    "    for i in string:\n",
    "        if i == 'a':\n",
    "            pontuacao += 1\n",
    "        if i == 'A':\n",
    "            pontuacao += 1\n",
    "        if i == 'b':\n",
    "            pontuacao += 1\n",
    "        if i == 'B':\n",
    "            pontuacao += 2\n",
    "        if i == 'd':\n",
    "            pontuacao += 1\n",
    "        if i == 'D':\n",
    "            pontuacao += 1\n",
    "        if i == 'e':\n",
    "            pontuacao += 1\n",
    "        if i == 'g':\n",
    "            pontuacao += 1\n",
    "        if i == 'o':\n",
    "            pontuacao += 1 \n",
    "        if i == 'O':\n",
    "            pontuacao += 1 \n",
    "        if i == 'p':\n",
    "            pontuacao += 1 \n",
    "        if i == 'P':\n",
    "            pontuacao += 1 \n",
    "        if i == 'q':\n",
    "            pontuacao += 1  \n",
    "        if i == 'R':\n",
    "            pontuacao += 1     \n",
    "            \n",
    "            \n",
    "        print(pontuacao)\n",
    "    pontuacao = pontuacao/2\n",
    "    print(pontuacao)\n",
    "    if pontuacao <= 1:\n",
    "        return 'Not even a medal!'\n",
    "    elif pontuacao > 1 and pontuacao <= 2:\n",
    "        return 'Bronze!'\n",
    "    elif pontuacao > 2 and pontuacao <=3:\n",
    "        return 'Silver!'\n",
    "    elif pontuacao > 3:\n",
    "        return 'Gold!'\n"
   ]
  },
  {
   "cell_type": "code",
   "execution_count": 147,
   "metadata": {},
   "outputs": [
    {
     "output_type": "stream",
     "name": "stdout",
     "text": [
      "0\n0\n1\n1\n2\n3\n3\n4\n5\n6\n7\n9\n4.5\n"
     ]
    },
    {
     "output_type": "execute_result",
     "data": {
      "text/plain": [
       "'Gold!'"
      ]
     },
     "metadata": {},
     "execution_count": 147
    }
   ],
   "source": [
    "def olympic_ring(string):\n",
    "  h = {'a':1, 'b':1, 'd':1, 'e': 1, 'g':1, 'o':1, 'p':1, 'q':1, 'A':1, 'B':2, 'D':1, 'O':1, 'P':1, 'R':1, 'Q':1}\n",
    "  result = lambda i: {i <= 1: 'Not even a medal!', i == 2: 'Bronze!', i == 3: 'Silver!', i >= 4: 'Gold!'}[True]\n",
    "  return result(sum([h[i] if i in h.keys() else 0 for i in string])//2)\n"
   ]
  },
  {
   "cell_type": "code",
   "execution_count": 96,
   "metadata": {},
   "outputs": [
    {
     "output_type": "execute_result",
     "data": {
      "text/plain": [
       "'Not even a medal!'"
      ]
     },
     "metadata": {},
     "execution_count": 96
    }
   ],
   "source": [
    "olympic_ring('JKniLfLW') #sem medalha\n"
   ]
  },
  {
   "cell_type": "code",
   "execution_count": 97,
   "metadata": {},
   "outputs": [
    {
     "output_type": "execute_result",
     "data": {
      "text/plain": [
       "'Silver!'"
      ]
     },
     "metadata": {},
     "execution_count": 97
    }
   ],
   "source": [
    "olympic_ring('EWlZlDFsEIBufsalqof') #silver\n"
   ]
  },
  {
   "cell_type": "code",
   "execution_count": 101,
   "metadata": {},
   "outputs": [
    {
     "output_type": "execute_result",
     "data": {
      "text/plain": [
       "'Gold'"
      ]
     },
     "metadata": {},
     "execution_count": 101
    }
   ],
   "source": [
    "olympic_ring('IMBAWejlGRTDWetPS') #gold"
   ]
  },
  {
   "cell_type": "code",
   "execution_count": 113,
   "metadata": {},
   "outputs": [
    {
     "output_type": "stream",
     "name": "stdout",
     "text": [
      "0\n0\n0\n0\n0\n1\n1\n1\n1\n2\n3\n3\n4\n4\n4\n4\n"
     ]
    },
    {
     "output_type": "execute_result",
     "data": {
      "text/plain": [
       "'Bronze!'"
      ]
     },
     "metadata": {},
     "execution_count": 113
    }
   ],
   "source": [
    "olympic_ring('wHjMudLwtoPGocnJ')"
   ]
  },
  {
   "cell_type": "code",
   "execution_count": 115,
   "metadata": {},
   "outputs": [
    {
     "output_type": "stream",
     "name": "stdout",
     "text": [
      "0\n0\n0\n0\n0\n1\n1\n1\n1\n1\n3\n3\n3\n3\n4\n4\n5\n6\n6\n"
     ]
    },
    {
     "output_type": "execute_result",
     "data": {
      "text/plain": [
       "'Silver!'"
      ]
     },
     "metadata": {},
     "execution_count": 115
    }
   ],
   "source": [
    "olympic_ring('EWlZlDFsEIBufsalqof')"
   ]
  },
  {
   "cell_type": "code",
   "execution_count": null,
   "metadata": {},
   "outputs": [],
   "source": []
  }
 ]
}