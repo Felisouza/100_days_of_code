{
 "metadata": {
  "language_info": {
   "codemirror_mode": {
    "name": "ipython",
    "version": 3
   },
   "file_extension": ".py",
   "mimetype": "text/x-python",
   "name": "python",
   "nbconvert_exporter": "python",
   "pygments_lexer": "ipython3",
   "version": "3.8.2-final"
  },
  "orig_nbformat": 2,
  "kernelspec": {
   "name": "python3",
   "display_name": "Python 3.8.2 32-bit",
   "metadata": {
    "interpreter": {
     "hash": "d718f5e77eeb90a857103ce460e841f8a02e170f65d24718fff93ff5f53fad94"
    }
   }
  }
 },
 "nbformat": 4,
 "nbformat_minor": 2,
 "cells": [
  {
   "source": [
    "## Write a function that accepts an array of 10 integers (between 0 and 9), that returns a string of those numbers in the form of a phone number.\n",
    "\n",
    "```\n",
    "create_phone_number([1, 2, 3, 4, 5, 6, 7, 8, 9, 0]) # => returns \"(123) 456-7890\"\n",
    "```"
   ],
   "cell_type": "markdown",
   "metadata": {}
  },
  {
   "cell_type": "code",
   "execution_count": 18,
   "metadata": {},
   "outputs": [],
   "source": [
    "def create_phone_number(n):\n",
    "    #your code here\n",
    "    if len(n) > 10:\n",
    "        return print('Número de telefone incorreto!')\n",
    "\n",
    "    n.insert(0,'(')\n",
    "    n.insert(4,')')\n",
    "    n.insert(5,' ')\n",
    "    n.insert(9,'-')\n",
    "    n = ''.join(map(str,n))\n",
    "    return print(n)"
   ]
  },
  {
   "cell_type": "code",
   "execution_count": 19,
   "metadata": {},
   "outputs": [
    {
     "output_type": "stream",
     "name": "stdout",
     "text": [
      "(000) 000-0000\n"
     ]
    }
   ],
   "source": [
    "create_phone_number([0,0,0,0,0,0,0,0,0,0])\n"
   ]
  },
  {
   "source": [
    "## Trolls are attacking your comment section!\n",
    "\n",
    "A common way to deal with this situation is to remove all of the vowels from the trolls' comments, neutralizing the threat.\n",
    "\n",
    "Your task is to write a function that takes a string and return a new string with all vowels removed.\n",
    "\n",
    "For example, the string \"This website is for losers LOL!\" would become \"Ths wbst s fr lsrs LL!\"."
   ],
   "cell_type": "markdown",
   "metadata": {}
  },
  {
   "cell_type": "code",
   "execution_count": 58,
   "metadata": {},
   "outputs": [],
   "source": [
    "def disemvowel(string):\n",
    "    #string = string.lower()\n",
    "    for i in string:\n",
    "        if i == 'a' or i == 'A' or i == 'e' or i == 'E' or i == 'i' or i == 'I' or i == 'o' or i == 'O' or i == 'u' or i == 'U':\n",
    "            string = string.replace(i, '')\n",
    "    return print(string)"
   ]
  },
  {
   "cell_type": "code",
   "execution_count": 59,
   "metadata": {},
   "outputs": [
    {
     "output_type": "stream",
     "name": "stdout",
     "text": [
      "Ths wbst s fr lsrs LL!\n"
     ]
    }
   ],
   "source": [
    "disemvowel('This website is for losers LOL!')"
   ]
  },
  {
   "source": [
    "## Create a function named divisors/Divisors that takes an integer n > 1 and returns an array with all of the integer's divisors(except for 1 and the number itself), from smallest to largest. If the number is prime return the string '(integer) is prime' (null in C#) (use Either String a in Haskell and Result<Vec<u32>, String> in Rust).\n",
    "Example:\n",
    "```\n",
    "divisors(12); #should return [2,3,4,6]\n",
    "divisors(25); #should return [5]\n",
    "divisors(13); #should return \"13 is prime\"\n",
    "\n",
    "```"
   ],
   "cell_type": "markdown",
   "metadata": {}
  },
  {
   "cell_type": "code",
   "execution_count": 62,
   "metadata": {},
   "outputs": [],
   "source": [
    "def divisors(integer):\n",
    "    cont = 1\n",
    "    lista = []\n",
    "    while cont < (integer-1):\n",
    "        cont += 1 \n",
    "        if integer % cont == 0:\n",
    "            lista.append(cont)\n",
    "    if len(lista) == 0:       \n",
    "        #elif integer % cont != 0:\n",
    "        return print(f'{integer} is prime')\n",
    "            \n",
    "    return print(lista)"
   ]
  },
  {
   "cell_type": "code",
   "execution_count": 63,
   "metadata": {
    "tags": []
   },
   "outputs": [
    {
     "output_type": "stream",
     "name": "stdout",
     "text": [
      "13 is prime\n"
     ]
    }
   ],
   "source": [
    "divisors(13)"
   ]
  },
  {
   "cell_type": "code",
   "execution_count": 61,
   "metadata": {},
   "outputs": [
    {
     "output_type": "stream",
     "name": "stdout",
     "text": [
      "1\n"
     ]
    }
   ],
   "source": [
    "lista = []\n",
    "print(len(lista))"
   ]
  },
  {
   "cell_type": "code",
   "execution_count": null,
   "metadata": {},
   "outputs": [],
   "source": []
  }
 ]
}