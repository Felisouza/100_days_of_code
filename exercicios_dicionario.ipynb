{
 "metadata": {
  "language_info": {
   "codemirror_mode": {
    "name": "ipython",
    "version": 3
   },
   "file_extension": ".py",
   "mimetype": "text/x-python",
   "name": "python",
   "nbconvert_exporter": "python",
   "pygments_lexer": "ipython3",
   "version": "3.8.2-final"
  },
  "orig_nbformat": 2,
  "kernelspec": {
   "name": "python3",
   "display_name": "Python 3.8.2 32-bit",
   "metadata": {
    "interpreter": {
     "hash": "d718f5e77eeb90a857103ce460e841f8a02e170f65d24718fff93ff5f53fad94"
    }
   }
  }
 },
 "nbformat": 4,
 "nbformat_minor": 2,
 "cells": [
  {
   "source": [
    "## 1. Faça um programa, utilizando Dicionários, que peça para o usuário inserir o nome de três produtos de mercado e seus respectivos preços e os mostre na tela."
   ],
   "cell_type": "markdown",
   "metadata": {}
  },
  {
   "cell_type": "code",
   "execution_count": 8,
   "metadata": {},
   "outputs": [
    {
     "output_type": "stream",
     "name": "stdout",
     "text": [
      "{'banana': 5.0, 'pera': 10.0, 'alface': 2.0}\n"
     ]
    }
   ],
   "source": [
    "produto1 = input('Insira o nome do primeiro produto: ')\n",
    "preco1 = float(input('Insira o valor do primeiro produto: '))\n",
    "produto2= input('Insira o nome do segundo produto: ')\n",
    "preco2 = float(input('Insira o valor do segundo produto: '))\n",
    "produto3 = input('Insira o nome do terceiro produto: ')\n",
    "preco3 = float(input('Insira o valor do terceiro produto: '))\n",
    "\n",
    "produtos = {}\n",
    "\n",
    "produtos[produto1] = preco1\n",
    "produtos[produto2] = preco2\n",
    "produtos[produto3] = preco3\n",
    "\n",
    "print(produtos)"
   ]
  },
  {
   "cell_type": "code",
   "execution_count": 11,
   "metadata": {},
   "outputs": [
    {
     "output_type": "error",
     "ename": "KeyError",
     "evalue": "5.0",
     "traceback": [
      "\u001b[1;31m---------------------------------------------------------------------------\u001b[0m",
      "\u001b[1;31mKeyError\u001b[0m                                  Traceback (most recent call last)",
      "\u001b[1;32m<ipython-input-11-261366568894>\u001b[0m in \u001b[0;36m<module>\u001b[1;34m\u001b[0m\n\u001b[0;32m      1\u001b[0m \u001b[0mmenor\u001b[0m \u001b[1;33m=\u001b[0m \u001b[1;36m0\u001b[0m\u001b[1;33m\u001b[0m\u001b[1;33m\u001b[0m\u001b[0m\n\u001b[0;32m      2\u001b[0m \u001b[1;32mfor\u001b[0m \u001b[0mi\u001b[0m \u001b[1;32min\u001b[0m \u001b[0mprodutos\u001b[0m\u001b[1;33m:\u001b[0m\u001b[1;33m\u001b[0m\u001b[1;33m\u001b[0m\u001b[0m\n\u001b[1;32m----> 3\u001b[1;33m     \u001b[1;32mif\u001b[0m \u001b[0mprodutos\u001b[0m\u001b[1;33m[\u001b[0m\u001b[0mpreco1\u001b[0m\u001b[1;33m]\u001b[0m \u001b[1;33m>\u001b[0m \u001b[0mi\u001b[0m\u001b[1;33m:\u001b[0m\u001b[1;33m\u001b[0m\u001b[1;33m\u001b[0m\u001b[0m\n\u001b[0m\u001b[0;32m      4\u001b[0m         \u001b[0mmenor\u001b[0m \u001b[1;33m=\u001b[0m \u001b[0mi\u001b[0m\u001b[1;33m\u001b[0m\u001b[1;33m\u001b[0m\u001b[0m\n",
      "\u001b[1;31mKeyError\u001b[0m: 5.0"
     ]
    }
   ],
   "source": [
    "menor = 0\n",
    "for i in produtos:\n",
    "    if produtos[preco1] > i:\n",
    "        menor = i\n"
   ]
  },
  {
   "source": [
    "## 2. Faça um programa, utilizando Dicionários, que peça para o usuário inserir quatro notas e mostre na tela as notas e a média entre elas."
   ],
   "cell_type": "markdown",
   "metadata": {}
  },
  {
   "cell_type": "code",
   "execution_count": 22,
   "metadata": {},
   "outputs": [
    {
     "output_type": "stream",
     "name": "stdout",
     "text": [
      "Suas notas foram {'Primeira nota': 8.5, 'Segunda nota': 8.5, 'Terceira nota': 5.0, 'Quarta nota': 8.0}\nSua média foi 7.50\n"
     ]
    }
   ],
   "source": [
    "nota1 = float(input('Insira a primeira nota: '))\n",
    "nota2 = float(input('Insira a segunda nota: '))\n",
    "nota3 = float(input('Insira a terceira nota: '))\n",
    "nota4 = float(input('Insira a quarta nota: '))\n",
    "\n",
    "media = (nota1+nota2+nota3+nota4)/4\n",
    "notas = {}\n",
    "\n",
    "notas['Primeira nota'] = nota1\n",
    "notas['Segunda nota'] = nota2\n",
    "notas['Terceira nota'] = nota3\n",
    "notas['Quarta nota'] = nota4\n",
    "\n",
    "print(\n",
    "    f'Suas notas foram {notas}\\n'\n",
    "    f'Sua média foi {media :.2f}'\n",
    "    )"
   ]
  },
  {
   "source": [
    "## 3. Faça um programa, utilizando Dicionários, que:\n",
    "\n",
    "1° Passo: Peça para o usuário inserir quatro coisas em uma “Caixa Misteriosa” .\n",
    "\n",
    "2° Passo: Peça para o usuário inserir um número.\n",
    "\n",
    "3° Passo: Mostre na tela o que foi inserido na posição do número inserido pelo usuário."
   ],
   "cell_type": "markdown",
   "metadata": {}
  },
  {
   "cell_type": "code",
   "execution_count": 25,
   "metadata": {},
   "outputs": [
    {
     "output_type": "stream",
     "name": "stdout",
     "text": [
      "Valor inválido! Digite novamente\n",
      "\n",
      "Valor inválido! Digite novamente\n",
      "\n",
      "Valor inválido! Digite novamente\n",
      "\n",
      "O(A) kk está caixa misteriosa na posição 2\n"
     ]
    }
   ],
   "source": [
    "caixa = {}\n",
    "coisa1 = input('Insira o primeiro objeto na caixa misteriosa: ').lower()\n",
    "coisa2 = input('Insira o segunda objeto na caixa misteriosa: ').lower()\n",
    "coisa3 = input('Insira o terceira objeto na caixa misteriosa: ').lower()\n",
    "coisa4 = input('Insira o quarta objeto na caixa misteriosa: ').lower()\n",
    "\n",
    "caixa[1] = coisa1\n",
    "caixa[2] = coisa2\n",
    "caixa[3] = coisa3\n",
    "caixa[4] = coisa4\n",
    "\n",
    "num = input('Escolha um número de 1 a 4: ')\n",
    "while num != '1' and num != '2' and num != '3' and num != '4':\n",
    "    print('Valor inválido! Digite novamente\\n')\n",
    "    num = input('Escolha um número de 1 a 4: ')\n",
    "if num == '1':\n",
    "    print(f'O(A) {coisa1} está caixa misteriosa na posição {num}')\n",
    "elif num == '2':\n",
    "    print(f'O(A) {coisa2} está caixa misteriosa na posição {num}')\n",
    "elif num == '3':\n",
    "    print(f'O(A) {coisa3} está caixa misteriosa na posição {num}')\n",
    "elif num == '4':\n",
    "    print(f'O(A) {coisa4} está caixa misteriosa na posição {num}')"
   ]
  },
  {
   "source": [
    "## Faça um programa, utilizando Dicionários, que:\n",
    "\n",
    "1° Passo: Peça para o usuário inserir o nome de três funcionários e os mostre na tela.\n",
    "\n",
    "2° Passo: Peça para o usuário demitir um funcionário e mostre na tela os funcionários restantes.\n",
    "\n"
   ],
   "cell_type": "markdown",
   "metadata": {}
  },
  {
   "cell_type": "code",
   "execution_count": null,
   "metadata": {},
   "outputs": [],
   "source": []
  }
 ]
}