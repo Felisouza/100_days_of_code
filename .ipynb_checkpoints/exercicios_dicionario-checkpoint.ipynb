{
 "cells": [
  {
   "cell_type": "markdown",
   "metadata": {},
   "source": [
    "## 1. Faça um programa, utilizando Dicionários, que peça para o usuário inserir o nome de três produtos de mercado e seus respectivos preços e os mostre na tela."
   ]
  },
  {
   "cell_type": "code",
   "execution_count": 8,
   "metadata": {},
   "outputs": [
    {
     "name": "stdout",
     "output_type": "stream",
     "text": [
      "{'banana': 5.0, 'pera': 10.0, 'alface': 2.0}\n"
     ]
    }
   ],
   "source": [
    "produto1 = input('Insira o nome do primeiro produto: ')\n",
    "preco1 = float(input('Insira o valor do primeiro produto: '))\n",
    "produto2= input('Insira o nome do segundo produto: ')\n",
    "preco2 = float(input('Insira o valor do segundo produto: '))\n",
    "produto3 = input('Insira o nome do terceiro produto: ')\n",
    "preco3 = float(input('Insira o valor do terceiro produto: '))\n",
    "\n",
    "produtos = {}\n",
    "\n",
    "produtos[produto1] = preco1\n",
    "produtos[produto2] = preco2\n",
    "produtos[produto3] = preco3\n",
    "\n",
    "print(produtos)"
   ]
  },
  {
   "cell_type": "markdown",
   "metadata": {},
   "source": [
    "## 2. Faça um programa, utilizando Dicionários, que peça para o usuário inserir quatro notas e mostre na tela as notas e a média entre elas."
   ]
  },
  {
   "cell_type": "code",
   "execution_count": 22,
   "metadata": {},
   "outputs": [
    {
     "name": "stdout",
     "output_type": "stream",
     "text": [
      "Suas notas foram {'Primeira nota': 8.5, 'Segunda nota': 8.5, 'Terceira nota': 5.0, 'Quarta nota': 8.0}\n",
      "Sua média foi 7.50\n"
     ]
    }
   ],
   "source": [
    "nota1 = float(input('Insira a primeira nota: '))\n",
    "nota2 = float(input('Insira a segunda nota: '))\n",
    "nota3 = float(input('Insira a terceira nota: '))\n",
    "nota4 = float(input('Insira a quarta nota: '))\n",
    "\n",
    "media = (nota1+nota2+nota3+nota4)/4\n",
    "notas = {}\n",
    "\n",
    "notas['Primeira nota'] = nota1\n",
    "notas['Segunda nota'] = nota2\n",
    "notas['Terceira nota'] = nota3\n",
    "notas['Quarta nota'] = nota4\n",
    "\n",
    "print(\n",
    "    f'Suas notas foram {notas}\\n'\n",
    "    f'Sua média foi {media :.2f}'\n",
    "    )"
   ]
  },
  {
   "cell_type": "markdown",
   "metadata": {},
   "source": [
    "## 3. Faça um programa, utilizando Dicionários, que:\n",
    "\n",
    "1° Passo: Peça para o usuário inserir quatro coisas em uma “Caixa Misteriosa” .\n",
    "\n",
    "2° Passo: Peça para o usuário inserir um número.\n",
    "\n",
    "3° Passo: Mostre na tela o que foi inserido na posição do número inserido pelo usuário."
   ]
  },
  {
   "cell_type": "code",
   "execution_count": 25,
   "metadata": {},
   "outputs": [
    {
     "name": "stdout",
     "output_type": "stream",
     "text": [
      "Valor inválido! Digite novamente\n",
      "\n",
      "Valor inválido! Digite novamente\n",
      "\n",
      "Valor inválido! Digite novamente\n",
      "\n",
      "O(A) kk está caixa misteriosa na posição 2\n"
     ]
    }
   ],
   "source": [
    "caixa = {}\n",
    "coisa1 = input('Insira o primeiro objeto na caixa misteriosa: ').lower()\n",
    "coisa2 = input('Insira o segunda objeto na caixa misteriosa: ').lower()\n",
    "coisa3 = input('Insira o terceira objeto na caixa misteriosa: ').lower()\n",
    "coisa4 = input('Insira o quarta objeto na caixa misteriosa: ').lower()\n",
    "\n",
    "caixa[1] = coisa1\n",
    "caixa[2] = coisa2\n",
    "caixa[3] = coisa3\n",
    "caixa[4] = coisa4\n",
    "\n",
    "num = input('Escolha um número de 1 a 4: ')\n",
    "while num != '1' and num != '2' and num != '3' and num != '4':\n",
    "    print('Valor inválido! Digite novamente\\n')\n",
    "    num = input('Escolha um número de 1 a 4: ')\n",
    "if num == '1':\n",
    "    print(f'O(A) {coisa1} está caixa misteriosa na posição {num}')\n",
    "elif num == '2':\n",
    "    print(f'O(A) {coisa2} está caixa misteriosa na posição {num}')\n",
    "elif num == '3':\n",
    "    print(f'O(A) {coisa3} está caixa misteriosa na posição {num}')\n",
    "elif num == '4':\n",
    "    print(f'O(A) {coisa4} está caixa misteriosa na posição {num}')"
   ]
  },
  {
   "cell_type": "markdown",
   "metadata": {},
   "source": [
    "## 4. Faça um programa, utilizando Dicionários, que:\n",
    "\n",
    "1° Passo: Peça para o usuário inserir o nome de três funcionários e os mostre na tela.\n",
    "\n",
    "2° Passo: Peça para o usuário demitir um funcionário e mostre na tela os funcionários restantes.\n",
    "\n"
   ]
  },
  {
   "cell_type": "code",
   "execution_count": null,
   "metadata": {},
   "outputs": [],
   "source": []
  }
 ],
 "metadata": {
  "kernelspec": {
   "display_name": "Python 3",
   "language": "python",
   "name": "python3"
  },
  "language_info": {
   "codemirror_mode": {
    "name": "ipython",
    "version": 3
   },
   "file_extension": ".py",
   "mimetype": "text/x-python",
   "name": "python",
   "nbconvert_exporter": "python",
   "pygments_lexer": "ipython3",
   "version": "3.7.6"
  }
 },
 "nbformat": 4,
 "nbformat_minor": 2
}
